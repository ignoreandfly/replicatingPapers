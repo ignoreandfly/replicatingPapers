{
 "cells": [
  {
   "cell_type": "markdown",
   "metadata": {},
   "source": [
    "### Objectives:\n",
    "1. Code ViT from Scratch in PyTorch\n",
    "2. Train it on CIFAR 10 \n",
    "\n",
    "\n",
    "Note: The codebase is based on the excellent ViT tutorial by Uygar Kurt\n"
   ]
  },
  {
   "cell_type": "code",
   "execution_count": 3,
   "metadata": {},
   "outputs": [],
   "source": [
    "import torch\n",
    "from torch import nn\n",
    "from torch import optim\n",
    "from torch.utils.data import DataLoader, Dataset\n",
    "from sklearn.model_selection import train_test_split\n",
    "import matplotlib.pyplot as plt\n",
    "import numpy as np\n",
    "import random\n",
    "from torchvision import transforms\n",
    "import timeit\n",
    "from tqdm import tqdm\n",
    "import pandas as pd\n",
    "import torchvision"
   ]
  },
  {
   "cell_type": "code",
   "execution_count": 4,
   "metadata": {},
   "outputs": [],
   "source": [
    "RANDOM_SEED = 42\n",
    "BATCH_SIZE = 8\n",
    "EPOCHS = 5\n",
    "LEARNING_RATE = 1e-4\n",
    "NUM_CLASSES = 10\n",
    "PATCH_SIZE = 4\n",
    "IMG_SIZE = 32\n",
    "IN_CHANNELS = 3\n",
    "NUM_HEADS = 8\n",
    "DROPOUT = 0.001\n",
    "HIDDEN_DIM = 768\n",
    "ADAM_WEIGHT_DECAY = 0\n",
    "ADAM_BETAS = (0.9, 0.999)\n",
    "ACTIVATION = \"gelu\"\n",
    "NUM_ENCODERS = 4\n",
    "EMBED_DIM = (PATCH_SIZE ** 2) * IN_CHANNELS # 16\n",
    "NUM_PATCHES = (IMG_SIZE // PATCH_SIZE) ** 2 # 49\n",
    "\n",
    "random.seed(RANDOM_SEED)\n",
    "np.random.seed(RANDOM_SEED)\n",
    "torch.manual_seed(RANDOM_SEED)\n",
    "torch.cuda.manual_seed(RANDOM_SEED)\n",
    "torch.cuda.manual_seed_all(RANDOM_SEED)\n",
    "torch.backends.cudnn.deterministic = True\n",
    "torch.backends.cudnn.benchmark = False\n",
    "device = \"cuda\" if torch.cuda.is_available() else \"cpu\"\n"
   ]
  },
  {
   "cell_type": "code",
   "execution_count": 5,
   "metadata": {},
   "outputs": [],
   "source": [
    "class PatchEmbedding(nn.Module):\n",
    "  def __init__(self, embed_dim, patch_size, num_patches, dropout, in_channels):\n",
    "    super().__init__()\n",
    "    self.patcher = nn.Sequential(\n",
    "        nn.Conv2d(\n",
    "            in_channels = in_channels,\n",
    "            out_channels = embed_dim,\n",
    "            kernel_size = patch_size,\n",
    "            stride = patch_size\n",
    "        ),\n",
    "        nn.Flatten(2) # flattening starts from dim 2, batch_size, no_patches, height, width\n",
    "    )\n",
    "\n",
    "    self.cls_token = nn.Parameter(torch.randn(size = (1, 1, embed_dim)), requires_grad = True)\n",
    "    self.position_embeddings = nn.Parameter(torch.randn(size=(1, num_patches+1, embed_dim)), requires_grad = True) \n",
    "    self.dropout = nn.Dropout(p=dropout)\n",
    "\n",
    "  def forward(self, x):\n",
    "    x = x.to(device)\n",
    "    cls_token = self.cls_token.expand(x.shape[0], -1, -1)\n",
    "    x = self.patcher(x).permute(0, 2, 1) # Permute to make things appear more natural \n",
    "    x = torch.cat([cls_token, x], dim = 1)\n",
    "    x = self.position_embeddings + x\n",
    "    x = self.dropout(x)\n",
    "    return x\n",
    "\n",
    "model = PatchEmbedding(EMBED_DIM, PATCH_SIZE, NUM_PATCHES, DROPOUT, IN_CHANNELS).to(device)\n",
    "\n",
    "\n",
    "\n",
    "\n"
   ]
  },
  {
   "cell_type": "code",
   "execution_count": 6,
   "metadata": {},
   "outputs": [
    {
     "name": "stderr",
     "output_type": "stream",
     "text": [
      "/home/azfarm/miniconda3/envs/MIDL/lib/python3.8/site-packages/torch/nn/modules/transformer.py:307: UserWarning: enable_nested_tensor is True, but self.use_nested_tensor is False because encoder_layer.norm_first was True\n",
      "  warnings.warn(f\"enable_nested_tensor is True, but self.use_nested_tensor is False because {why_not_sparsity_fast_path}\")\n"
     ]
    }
   ],
   "source": [
    "class ViT(nn.Module):\n",
    "  def __init__(self, num_patches, img_size, num_classes, patch_size, embed_dim, num_encoders, num_heads, hidden_dim, dropout, activation, in_channels):\n",
    "    super().__init__()\n",
    "    self.embedding_block = PatchEmbedding(embed_dim, patch_size, num_patches, dropout, in_channels)\n",
    "\n",
    "    encoder_layer = nn.TransformerEncoderLayer(d_model = embed_dim, nhead = num_heads, dropout = dropout, activation = activation, batch_first = True, norm_first= True)\n",
    "    self.encoder_blocks = nn.TransformerEncoder(encoder_layer, num_layers=num_encoders)\n",
    "\n",
    "    self.mlp_head = nn.Sequential(\n",
    "        nn.LayerNorm(normalized_shape = embed_dim),\n",
    "        nn.Linear(in_features = embed_dim, out_features = num_classes)\n",
    "    )\n",
    "\n",
    "\n",
    "  def forward(self, x):\n",
    "    x = self.embedding_block(x)\n",
    "    x = self.encoder_blocks(x)\n",
    "    x = self.mlp_head(x[:, 0, :])\n",
    "    return x\n",
    "\n",
    "model = ViT(NUM_PATCHES, IMG_SIZE, NUM_CLASSES, PATCH_SIZE, EMBED_DIM, NUM_ENCODERS, NUM_HEADS, HIDDEN_DIM, DROPOUT, ACTIVATION, IN_CHANNELS).to(device)\n",
    "\n"
   ]
  },
  {
   "cell_type": "code",
   "execution_count": 7,
   "metadata": {},
   "outputs": [
    {
     "name": "stdout",
     "output_type": "stream",
     "text": [
      "Files already downloaded and verified\n",
      "Files already downloaded and verified\n"
     ]
    }
   ],
   "source": [
    "# Downloading CIFAR-10\n",
    "transform = transforms.Compose(\n",
    "    [transforms.ToTensor(),\n",
    "     transforms.Normalize((0.5, 0.5, 0.5), (0.5, 0.5, 0.5))])\n",
    "\n",
    "\n",
    "trainset = torchvision.datasets.CIFAR10(root='./data', train=True,\n",
    "                                        download=True, transform=transform)\n",
    "trainloader = torch.utils.data.DataLoader(trainset, batch_size=BATCH_SIZE,\n",
    "                                          shuffle=True, num_workers=2)\n",
    "\n",
    "testset = torchvision.datasets.CIFAR10(root='./data', train=False,\n",
    "                                       download=True, transform=transform)\n",
    "testloader = torch.utils.data.DataLoader(testset, batch_size=BATCH_SIZE,\n",
    "                                         shuffle=False, num_workers=2)\n",
    "\n",
    "classes = ('plane', 'car', 'bird', 'cat',\n",
    "           'deer', 'dog', 'frog', 'horse', 'ship', 'truck')"
   ]
  },
  {
   "cell_type": "code",
   "execution_count": 8,
   "metadata": {},
   "outputs": [],
   "source": [
    "# Splitting the train set into Val set\n",
    "\n",
    "trainset, valset = train_test_split(trainset, test_size = 0.1, random_state = RANDOM_SEED, shuffle= True)\n",
    "valloader = torch.utils.data.DataLoader(valset, batch_size=BATCH_SIZE,\n",
    "                                         shuffle=False, num_workers=2)"
   ]
  },
  {
   "cell_type": "code",
   "execution_count": 9,
   "metadata": {},
   "outputs": [
    {
     "name": "stderr",
     "output_type": "stream",
     "text": [
      "Clipping input data to the valid range for imshow with RGB data ([0..1] for floats or [0..255] for integers).\n",
      "Clipping input data to the valid range for imshow with RGB data ([0..1] for floats or [0..255] for integers).\n",
      "Clipping input data to the valid range for imshow with RGB data ([0..1] for floats or [0..255] for integers).\n"
     ]
    },
    {
     "name": "stdout",
     "output_type": "stream",
     "text": [
      "45000\n",
      "(tensor([[[-0.8588, -0.8275, -0.7882,  ..., -0.7961, -0.8902, -0.9137],\n",
      "         [-0.8588, -0.8353, -0.8039,  ..., -0.7882, -0.8353, -0.8667],\n",
      "         [-0.8196, -0.8275, -0.8431,  ..., -0.7725, -0.8039, -0.8353],\n",
      "         ...,\n",
      "         [-0.6549, -0.6235, -0.5686,  ...,  0.0196, -0.1765, -0.4902],\n",
      "         [-0.8039, -0.7725, -0.7020,  ..., -0.0196, -0.2863, -0.6157],\n",
      "         [-0.8745, -0.8510, -0.8275,  ..., -0.2078, -0.5686, -0.7961]],\n",
      "\n",
      "        [[-0.9059, -0.8745, -0.8353,  ..., -0.8510, -0.9137, -0.9216],\n",
      "         [-0.9059, -0.8824, -0.8510,  ..., -0.8196, -0.8353, -0.8588],\n",
      "         [-0.8667, -0.8745, -0.8902,  ..., -0.7804, -0.7961, -0.8039],\n",
      "         ...,\n",
      "         [-0.8118, -0.7961, -0.7569,  ...,  0.0275, -0.1843, -0.5294],\n",
      "         [-0.8667, -0.8353, -0.7804,  ..., -0.0039, -0.3020, -0.6706],\n",
      "         [-0.8980, -0.8745, -0.8588,  ..., -0.2157, -0.6000, -0.8510]],\n",
      "\n",
      "        [[-0.8118, -0.7804, -0.7412,  ..., -0.7647, -0.8588, -0.8745],\n",
      "         [-0.8118, -0.7882, -0.7569,  ..., -0.7490, -0.7882, -0.8118],\n",
      "         [-0.7725, -0.7804, -0.7961,  ..., -0.7098, -0.7490, -0.7647],\n",
      "         ...,\n",
      "         [-0.7255, -0.7020, -0.6627,  ...,  0.2471, -0.0039, -0.3569],\n",
      "         [-0.7882, -0.7569, -0.7020,  ...,  0.2157, -0.1137, -0.4980],\n",
      "         [-0.8431, -0.8118, -0.7882,  ..., -0.0196, -0.4353, -0.7098]]]), 3)\n",
      "------------------------------\n",
      "5000\n",
      "(tensor([[[ 0.4510,  0.4039,  0.4745,  ...,  0.0275,  0.2549,  0.5843],\n",
      "         [ 0.4353,  0.4275,  0.5373,  ...,  0.0510,  0.2471,  0.6078],\n",
      "         [ 0.4353,  0.4275,  0.5529,  ...,  0.0196,  0.2078,  0.6000],\n",
      "         ...,\n",
      "         [-0.1529, -0.1529, -0.1922,  ..., -0.1843, -0.1686, -0.1843],\n",
      "         [-0.2157, -0.2078, -0.2000,  ..., -0.1686, -0.1686, -0.1686],\n",
      "         [-0.2471, -0.2784, -0.2784,  ..., -0.1686, -0.1765, -0.1686]],\n",
      "\n",
      "        [[ 0.4510,  0.3804,  0.4353,  ..., -0.0431,  0.1922,  0.5529],\n",
      "         [ 0.4431,  0.4118,  0.5059,  ..., -0.0275,  0.1843,  0.5686],\n",
      "         [ 0.4510,  0.4196,  0.5294,  ..., -0.0588,  0.1451,  0.5686],\n",
      "         ...,\n",
      "         [-0.1216, -0.1216, -0.1608,  ..., -0.1922, -0.1765, -0.1922],\n",
      "         [-0.1922, -0.1765, -0.1686,  ..., -0.1765, -0.1765, -0.1765],\n",
      "         [-0.2235, -0.2549, -0.2549,  ..., -0.1765, -0.1843, -0.1765]],\n",
      "\n",
      "        [[ 0.3961,  0.2863,  0.3020,  ..., -0.1608,  0.1059,  0.5137],\n",
      "         [ 0.4118,  0.3412,  0.3882,  ..., -0.1451,  0.0980,  0.5294],\n",
      "         [ 0.4431,  0.3725,  0.4431,  ..., -0.1765,  0.0588,  0.5294],\n",
      "         ...,\n",
      "         [-0.1059, -0.1059, -0.1451,  ..., -0.1294, -0.1137, -0.1294],\n",
      "         [-0.1608, -0.1451, -0.1373,  ..., -0.1137, -0.1137, -0.1137],\n",
      "         [-0.1765, -0.2078, -0.2078,  ..., -0.1216, -0.1216, -0.1137]]]), 7)\n",
      "------------------------------\n",
      "10000\n",
      "(tensor([[[ 0.2392,  0.2471,  0.2941,  ...,  0.0745, -0.0118, -0.0902],\n",
      "         [ 0.1922,  0.1843,  0.2471,  ...,  0.0667, -0.0196, -0.0667],\n",
      "         [ 0.1843,  0.1843,  0.2392,  ...,  0.0902,  0.0196, -0.0588],\n",
      "         ...,\n",
      "         [-0.4667, -0.6706, -0.7569,  ..., -0.7020, -0.8980, -0.6863],\n",
      "         [-0.5216, -0.6157, -0.7255,  ..., -0.7961, -0.7725, -0.8431],\n",
      "         [-0.5765, -0.5608, -0.6471,  ..., -0.8118, -0.7333, -0.8353]],\n",
      "\n",
      "        [[-0.1216, -0.1294, -0.0902,  ..., -0.2549, -0.2863, -0.3333],\n",
      "         [-0.1216, -0.1373, -0.1059,  ..., -0.2549, -0.2863, -0.3098],\n",
      "         [-0.1373, -0.1451, -0.1294,  ..., -0.2314, -0.2549, -0.3020],\n",
      "         ...,\n",
      "         [-0.0275, -0.2157, -0.3098,  ..., -0.2392, -0.4980, -0.3333],\n",
      "         [-0.0902, -0.2000, -0.3333,  ..., -0.3569, -0.3569, -0.4980],\n",
      "         [-0.1608, -0.1765, -0.3020,  ..., -0.3961, -0.3412, -0.4745]],\n",
      "\n",
      "        [[-0.6157, -0.6314, -0.6000,  ..., -0.7176, -0.7176, -0.7412],\n",
      "         [-0.6000, -0.6863, -0.6471,  ..., -0.7569, -0.7490, -0.7333],\n",
      "         [-0.6314, -0.7412, -0.7176,  ..., -0.7333, -0.7333, -0.7412],\n",
      "         ...,\n",
      "         [ 0.3882,  0.1608,  0.0745,  ...,  0.1451, -0.1529, -0.0039],\n",
      "         [ 0.3176,  0.1608,  0.0353,  ...,  0.0196, -0.0118, -0.1608],\n",
      "         [ 0.2549,  0.1686,  0.0353,  ..., -0.0275,  0.0118, -0.1373]]]), 3)\n",
      "------------------------------\n"
     ]
    },
    {
     "data": {
      "text/plain": [
       "<Figure size 640x480 with 0 Axes>"
      ]
     },
     "metadata": {},
     "output_type": "display_data"
    },
    {
     "data": {
      "image/png": "[encoded data removed]",
      "text/plain": [
       "<Figure size 640x480 with 3 Axes>"
      ]
     },
     "metadata": {},
     "output_type": "display_data"
    }
   ],
   "source": [
    "plt.figure()\n",
    "f, axarr = plt.subplots(1, 3)\n",
    "print(len(trainset))\n",
    "print(trainset[0])\n",
    "axarr[0].imshow(trainset[0][0].squeeze().permute(1, 2, 0), cmap='gray')\n",
    "axarr[0].set_title(\"Train Image\")\n",
    "print(\"-\"*30)\n",
    "\n",
    "print(len(valset))\n",
    "print(valset[0])\n",
    "axarr[1].imshow(valset[0][0].squeeze().permute(1, 2, 0), cmap='gray')\n",
    "axarr[1].set_title(\"Val Image\")\n",
    "print(\"-\"*30)\n",
    "\n",
    "print(len(testset))\n",
    "print(testset[0])\n",
    "axarr[2].imshow(testset[0][0].squeeze().permute(1, 2, 0), cmap='gray')\n",
    "axarr[2].set_title(\"Test Image\")\n",
    "print(\"-\"*30)"
   ]
  },
  {
   "cell_type": "code",
   "execution_count": 10,
   "metadata": {},
   "outputs": [
    {
     "name": "stderr",
     "output_type": "stream",
     "text": [
      "100%|██████████| 6250/6250 [01:20<00:00, 77.51it/s]\n",
      "100%|██████████| 625/625 [00:03<00:00, 166.16it/s]\n"
     ]
    },
    {
     "name": "stdout",
     "output_type": "stream",
     "text": [
      "------------------------------\n",
      "Train Loss EPOCH 1: 1.8349\n",
      "Val Loss EPOCH 1: 1.6296\n"
     ]
    },
    {
     "name": "stderr",
     "output_type": "stream",
     "text": [
      " 20%|██        | 1/5 [01:24<05:38, 84.71s/it]"
     ]
    },
    {
     "name": "stdout",
     "output_type": "stream",
     "text": [
      "Train Accuracy EPOCH 1: 0.3256\n",
      "Val Accuracy EPOCH 1: 0.4046\n"
     ]
    },
    {
     "name": "stderr",
     "output_type": "stream",
     "text": [
      "100%|██████████| 6250/6250 [01:20<00:00, 78.02it/s]\n",
      "100%|██████████| 625/625 [00:03<00:00, 160.80it/s]\n"
     ]
    },
    {
     "name": "stdout",
     "output_type": "stream",
     "text": [
      "------------------------------\n",
      "Train Loss EPOCH 2: 1.5208\n",
      "Val Loss EPOCH 2: 1.4572\n"
     ]
    },
    {
     "name": "stderr",
     "output_type": "stream",
     "text": [
      " 40%|████      | 2/5 [02:49<04:13, 84.53s/it]"
     ]
    },
    {
     "name": "stdout",
     "output_type": "stream",
     "text": [
      "Train Accuracy EPOCH 2: 0.4488\n",
      "Val Accuracy EPOCH 2: 0.4758\n"
     ]
    },
    {
     "name": "stderr",
     "output_type": "stream",
     "text": [
      "100%|██████████| 6250/6250 [01:20<00:00, 78.06it/s]\n",
      "100%|██████████| 625/625 [00:03<00:00, 163.89it/s]\n"
     ]
    },
    {
     "name": "stdout",
     "output_type": "stream",
     "text": [
      "------------------------------\n",
      "Train Loss EPOCH 3: 1.4023\n",
      "Val Loss EPOCH 3: 1.3315\n"
     ]
    },
    {
     "name": "stderr",
     "output_type": "stream",
     "text": [
      " 60%|██████    | 3/5 [04:13<02:48, 84.42s/it]"
     ]
    },
    {
     "name": "stdout",
     "output_type": "stream",
     "text": [
      "Train Accuracy EPOCH 3: 0.4932\n",
      "Val Accuracy EPOCH 3: 0.5174\n"
     ]
    },
    {
     "name": "stderr",
     "output_type": "stream",
     "text": [
      "100%|██████████| 6250/6250 [01:20<00:00, 78.04it/s]\n",
      "100%|██████████| 625/625 [00:03<00:00, 165.11it/s]\n"
     ]
    },
    {
     "name": "stdout",
     "output_type": "stream",
     "text": [
      "------------------------------\n",
      "Train Loss EPOCH 4: 1.3207\n",
      "Val Loss EPOCH 4: 1.2740\n"
     ]
    },
    {
     "name": "stderr",
     "output_type": "stream",
     "text": [
      " 80%|████████  | 4/5 [05:37<01:24, 84.36s/it]"
     ]
    },
    {
     "name": "stdout",
     "output_type": "stream",
     "text": [
      "Train Accuracy EPOCH 4: 0.5240\n",
      "Val Accuracy EPOCH 4: 0.5430\n"
     ]
    },
    {
     "name": "stderr",
     "output_type": "stream",
     "text": [
      "100%|██████████| 6250/6250 [01:20<00:00, 78.11it/s]\n",
      "100%|██████████| 625/625 [00:04<00:00, 154.98it/s]\n"
     ]
    },
    {
     "name": "stdout",
     "output_type": "stream",
     "text": [
      "------------------------------\n",
      "Train Loss EPOCH 5: 1.2639\n",
      "Val Loss EPOCH 5: 1.2358\n"
     ]
    },
    {
     "name": "stderr",
     "output_type": "stream",
     "text": [
      "100%|██████████| 5/5 [07:02<00:00, 84.42s/it]"
     ]
    },
    {
     "name": "stdout",
     "output_type": "stream",
     "text": [
      "Train Accuracy EPOCH 5: 0.5449\n",
      "Val Accuracy EPOCH 5: 0.5552\n",
      "Training Time: 422.112375s\n"
     ]
    },
    {
     "name": "stderr",
     "output_type": "stream",
     "text": [
      "\n"
     ]
    }
   ],
   "source": [
    "criterion = nn.CrossEntropyLoss()\n",
    "optimizer = optim.Adam(model.parameters(), betas=ADAM_BETAS, lr= LEARNING_RATE, weight_decay=ADAM_WEIGHT_DECAY)\n",
    "\n",
    "start = timeit.default_timer()\n",
    "for epoch in tqdm(range(EPOCHS), position=0, leave =True):\n",
    "  model.train()\n",
    "  train_labels = []\n",
    "  train_preds = []\n",
    "  train_running_loss = 0\n",
    "  for idx, img_label in enumerate(tqdm(trainloader, position =0, leave=True)):\n",
    "    img = img_label[0].float().to(device)\n",
    "    label = img_label[1].type(torch.uint8).to(device)\n",
    "    y_pred = model(img)\n",
    "    y_pred_label = torch.argmax(y_pred, dim = 1)\n",
    "\n",
    "    train_labels.extend(label.cpu().detach())\n",
    "    train_preds.extend(y_pred_label.cpu().detach())\n",
    "\n",
    "    loss =criterion(y_pred, label)\n",
    "\n",
    "    optimizer.zero_grad()\n",
    "    loss.backward()\n",
    "    optimizer.step()\n",
    "\n",
    "    train_running_loss += loss.item()\n",
    "  train_loss = train_running_loss/ (idx + 1)\n",
    "\n",
    "  model.eval()\n",
    "  val_labels = []\n",
    "  val_preds = []\n",
    "  val_running_loss = 0\n",
    "  with torch.no_grad():\n",
    "    for idx, img_label in enumerate(tqdm(valloader, position = 0, leave= True)):\n",
    "      img = img_label[0].float().to(device)\n",
    "      label = img_label[1].type(torch.uint8).to(device)\n",
    "      y_pred = model(img)\n",
    "      y_pred_label = torch.argmax(y_pred, dim = 1)\n",
    "\n",
    "      val_labels.extend(label.cpu().detach())\n",
    "      val_preds.extend(y_pred_label.cpu().detach())\n",
    "\n",
    "      loss = criterion(y_pred, label)\n",
    "\n",
    "      val_running_loss += loss.item()\n",
    "    val_loss = val_running_loss / (idx + 1)\n",
    "  print(\"-\"*30)\n",
    "  print(f\"Train Loss EPOCH {epoch+1}: {train_loss:.4f}\")\n",
    "  print(f\"Val Loss EPOCH {epoch+1}: {val_loss:.4f}\")\n",
    "  print(f\"Train Accuracy EPOCH {epoch+1}: {sum(1 for x, y in zip(train_preds, train_labels) if x == y) / len(train_labels):.4f}\")\n",
    "  print(f\"Val Accuracy EPOCH {epoch+1}: {sum(1 for x, y in zip(val_preds, val_labels) if x == y) / len(val_labels):.4f}\")\n",
    "\n",
    "stop = timeit.default_timer()\n",
    "print(f\"Training Time: {stop-start:2f}s\")\n",
    "\n",
    "\n",
    "\n"
   ]
  },
  {
   "cell_type": "markdown",
   "metadata": {},
   "source": [
    "### To do:\n",
    "* Implement the model with just MultiheadAttention\n"
   ]
  }
 ],
 "metadata": {
  "kernelspec": {
   "display_name": "MIDL",
   "language": "python",
   "name": "python3"
  },
  "language_info": {
   "codemirror_mode": {
    "name": "ipython",
    "version": 3
   },
   "file_extension": ".py",
   "mimetype": "text/x-python",
   "name": "python",
   "nbconvert_exporter": "python",
   "pygments_lexer": "ipython3",
   "version": "3.8.20"
  }
 },
 "nbformat": 4,
 "nbformat_minor": 2
}
